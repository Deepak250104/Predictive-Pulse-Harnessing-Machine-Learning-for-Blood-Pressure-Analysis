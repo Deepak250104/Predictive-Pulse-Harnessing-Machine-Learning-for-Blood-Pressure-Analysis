{
 "cells": [
  {
   "cell_type": "code",
   "execution_count": 1,
   "id": "6ac382fa",
   "metadata": {},
   "outputs": [],
   "source": [
    "import joblib\n",
    "import pandas as pd\n",
    "from sklearn.metrics import accuracy_score, classification_report, confusion_matrix"
   ]
  },
  {
   "cell_type": "code",
   "execution_count": null,
   "id": "d6d0c116",
   "metadata": {},
   "outputs": [],
   "source": [
    "X_test = pd.read_csv('../dataset/X_test.csv')\n",
    "y_test = pd.read_csv('../dataset/y_test.csv')"
   ]
  },
  {
   "cell_type": "code",
   "execution_count": 4,
   "id": "f7668b1e",
   "metadata": {},
   "outputs": [
    {
     "name": "stdout",
     "output_type": "stream",
     "text": [
      "Logistic Regression:\n",
      "Accuracy: 0.9726027397260274\n",
      "Classification Report:\n",
      "               precision    recall  f1-score   support\n",
      "\n",
      "         0.0       1.00      1.00      1.00        67\n",
      "         1.0       1.00      1.00      1.00       130\n",
      "         2.0       1.00      0.92      0.96       120\n",
      "         3.0       0.83      1.00      0.91        48\n",
      "\n",
      "    accuracy                           0.97       365\n",
      "   macro avg       0.96      0.98      0.97       365\n",
      "weighted avg       0.98      0.97      0.97       365\n",
      "\n",
      "Confusion Matrix:\n",
      " [[ 67   0   0   0]\n",
      " [  0 130   0   0]\n",
      " [  0   0 110  10]\n",
      " [  0   0   0  48]]\n"
     ]
    }
   ],
   "source": [
    "logreg = joblib.load('../models/logistic_regression_model.pkl')\n",
    "y_pred = logreg.predict(X_test)\n",
    "print(\"Logistic Regression:\")\n",
    "print(\"Accuracy:\", accuracy_score(y_test, y_pred))\n",
    "print(\"Classification Report:\\n\", classification_report(y_test, y_pred))\n",
    "print(\"Confusion Matrix:\\n\", confusion_matrix(y_test, y_pred))"
   ]
  },
  {
   "cell_type": "code",
   "execution_count": 5,
   "id": "b50f6a71",
   "metadata": {},
   "outputs": [
    {
     "name": "stdout",
     "output_type": "stream",
     "text": [
      "Random Forest:\n",
      "Accuracy: 1.0\n",
      "Classification Report:\n",
      "               precision    recall  f1-score   support\n",
      "\n",
      "         0.0       1.00      1.00      1.00        67\n",
      "         1.0       1.00      1.00      1.00       130\n",
      "         2.0       1.00      1.00      1.00       120\n",
      "         3.0       1.00      1.00      1.00        48\n",
      "\n",
      "    accuracy                           1.00       365\n",
      "   macro avg       1.00      1.00      1.00       365\n",
      "weighted avg       1.00      1.00      1.00       365\n",
      "\n",
      "Confusion Matrix:\n",
      " [[ 67   0   0   0]\n",
      " [  0 130   0   0]\n",
      " [  0   0 120   0]\n",
      " [  0   0   0  48]]\n"
     ]
    }
   ],
   "source": [
    "rf = joblib.load('../models/random_forest_model.pkl')\n",
    "y_pred = rf.predict(X_test)\n",
    "print(\"Random Forest:\")\n",
    "print(\"Accuracy:\", accuracy_score(y_test, y_pred))\n",
    "print(\"Classification Report:\\n\", classification_report(y_test, y_pred))\n",
    "print(\"Confusion Matrix:\\n\", confusion_matrix(y_test, y_pred))"
   ]
  },
  {
   "cell_type": "code",
   "execution_count": 7,
   "id": "147e426e",
   "metadata": {},
   "outputs": [
    {
     "name": "stdout",
     "output_type": "stream",
     "text": [
      "Decision Tree:\n",
      "Accuracy: 1.0\n",
      "Classification Report:\n",
      "               precision    recall  f1-score   support\n",
      "\n",
      "         0.0       1.00      1.00      1.00        67\n",
      "         1.0       1.00      1.00      1.00       130\n",
      "         2.0       1.00      1.00      1.00       120\n",
      "         3.0       1.00      1.00      1.00        48\n",
      "\n",
      "    accuracy                           1.00       365\n",
      "   macro avg       1.00      1.00      1.00       365\n",
      "weighted avg       1.00      1.00      1.00       365\n",
      "\n",
      "Confusion Matrix:\n",
      " [[ 67   0   0   0]\n",
      " [  0 130   0   0]\n",
      " [  0   0 120   0]\n",
      " [  0   0   0  48]]\n"
     ]
    }
   ],
   "source": [
    "dt = joblib.load('../models/decision_tree_model.pkl')\n",
    "y_pred = dt.predict(X_test)\n",
    "print(\"Decision Tree:\")\n",
    "print(\"Accuracy:\", accuracy_score(y_test, y_pred))\n",
    "print(\"Classification Report:\\n\", classification_report(y_test, y_pred))\n",
    "print(\"Confusion Matrix:\\n\", confusion_matrix(y_test, y_pred))"
   ]
  },
  {
   "cell_type": "code",
   "execution_count": 8,
   "id": "babe42d8",
   "metadata": {},
   "outputs": [
    {
     "name": "stdout",
     "output_type": "stream",
     "text": [
      "Gaussian NB:\n",
      "Accuracy: 0.8849315068493151\n",
      "Classification Report:\n",
      "               precision    recall  f1-score   support\n",
      "\n",
      "         0.0       1.00      1.00      1.00        67\n",
      "         1.0       1.00      1.00      1.00       130\n",
      "         2.0       1.00      0.65      0.79       120\n",
      "         3.0       0.53      1.00      0.70        48\n",
      "\n",
      "    accuracy                           0.88       365\n",
      "   macro avg       0.88      0.91      0.87       365\n",
      "weighted avg       0.94      0.88      0.89       365\n",
      "\n",
      "Confusion Matrix:\n",
      " [[ 67   0   0   0]\n",
      " [  0 130   0   0]\n",
      " [  0   0  78  42]\n",
      " [  0   0   0  48]]\n"
     ]
    }
   ],
   "source": [
    "gnb = joblib.load('../models/gaussian_nb_model.pkl')\n",
    "y_pred = gnb.predict(X_test)\n",
    "print(\"Gaussian NB:\")\n",
    "print(\"Accuracy:\", accuracy_score(y_test, y_pred))\n",
    "print(\"Classification Report:\\n\", classification_report(y_test, y_pred))\n",
    "print(\"Confusion Matrix:\\n\", confusion_matrix(y_test, y_pred))\n"
   ]
  },
  {
   "cell_type": "code",
   "execution_count": 9,
   "id": "46fe8f3d",
   "metadata": {},
   "outputs": [
    {
     "name": "stdout",
     "output_type": "stream",
     "text": [
      "Multinomial NB:\n",
      "Accuracy: 0.9041095890410958\n",
      "Classification Report:\n",
      "               precision    recall  f1-score   support\n",
      "\n",
      "         0.0       1.00      1.00      1.00        67\n",
      "         1.0       1.00      1.00      1.00       130\n",
      "         2.0       1.00      0.71      0.83       120\n",
      "         3.0       0.58      1.00      0.73        48\n",
      "\n",
      "    accuracy                           0.90       365\n",
      "   macro avg       0.89      0.93      0.89       365\n",
      "weighted avg       0.94      0.90      0.91       365\n",
      "\n",
      "Confusion Matrix:\n",
      " [[ 67   0   0   0]\n",
      " [  0 130   0   0]\n",
      " [  0   0  85  35]\n",
      " [  0   0   0  48]]\n"
     ]
    }
   ],
   "source": [
    "mnb = joblib.load('../models/multinomial_nb_model.pkl')\n",
    "y_pred = mnb.predict(X_test)\n",
    "print(\"Multinomial NB:\")\n",
    "print(\"Accuracy:\", accuracy_score(y_test, y_pred))\n",
    "print(\"Classification Report:\\n\", classification_report(y_test, y_pred))\n",
    "print(\"Confusion Matrix:\\n\", confusion_matrix(y_test, y_pred))\n"
   ]
  }
 ],
 "metadata": {
  "kernelspec": {
   "display_name": ".env",
   "language": "python",
   "name": "python3"
  },
  "language_info": {
   "codemirror_mode": {
    "name": "ipython",
    "version": 3
   },
   "file_extension": ".py",
   "mimetype": "text/x-python",
   "name": "python",
   "nbconvert_exporter": "python",
   "pygments_lexer": "ipython3",
   "version": "3.11.7"
  }
 },
 "nbformat": 4,
 "nbformat_minor": 5
}
