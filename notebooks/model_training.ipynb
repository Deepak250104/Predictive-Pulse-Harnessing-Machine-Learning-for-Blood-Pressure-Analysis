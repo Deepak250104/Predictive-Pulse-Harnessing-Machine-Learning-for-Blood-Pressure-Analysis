{
 "cells": [
  {
   "cell_type": "code",
   "execution_count": 14,
   "id": "36e6b345",
   "metadata": {},
   "outputs": [],
   "source": [
    "import pandas as pd\n",
    "\n",
    "from sklearn.model_selection import train_test_split\n",
    "\n",
    "from sklearn.metrics import accuracy_score, classification_report\n",
    "from sklearn.linear_model import LogisticRegression\n",
    "from sklearn.ensemble import RandomForestClassifier\n",
    "from sklearn.tree import DecisionTreeClassifier\n",
    "from sklearn.naive_bayes import GaussianNB, MultinomialNB\n",
    "\n",
    "from sklearn.metrics import accuracy_score, classification_report, confusion_matrix"
   ]
  },
  {
   "cell_type": "code",
   "execution_count": 7,
   "id": "281736d9",
   "metadata": {},
   "outputs": [
    {
     "data": {
      "text/plain": [
       "<bound method NDFrame.head of       Age  Severity  Whendiagnoused  Systolic  Diastolic  Stages  \\\n",
       "0     0.0       0.0             0.0       1.0        1.0     1.0   \n",
       "1     0.0       0.0             0.0       1.0        1.0     1.0   \n",
       "2     1.0       0.0             0.0       1.0        1.0     1.0   \n",
       "3     1.0       0.0             0.0       1.0        1.0     1.0   \n",
       "4     2.0       0.0             0.0       1.0        1.0     1.0   \n",
       "...   ...       ...             ...       ...        ...     ...   \n",
       "1820  1.0       2.0             2.0       1.0        0.0     0.0   \n",
       "1821  2.0       2.0             2.0       1.0        0.0     0.0   \n",
       "1822  2.0       2.0             2.0       1.0        0.0     0.0   \n",
       "1823  3.0       2.0             2.0       1.0        0.0     0.0   \n",
       "1824  3.0       2.0             2.0       1.0        0.0     0.0   \n",
       "\n",
       "      Gender_Female  Gender_Male  History_No  History_Yes  ...  \\\n",
       "0               0.0          1.0         0.0          1.0  ...   \n",
       "1               1.0          0.0         0.0          1.0  ...   \n",
       "2               0.0          1.0         0.0          1.0  ...   \n",
       "3               1.0          0.0         0.0          1.0  ...   \n",
       "4               0.0          1.0         0.0          1.0  ...   \n",
       "...             ...          ...         ...          ...  ...   \n",
       "1820            1.0          0.0         0.0          1.0  ...   \n",
       "1821            0.0          1.0         0.0          1.0  ...   \n",
       "1822            1.0          0.0         0.0          1.0  ...   \n",
       "1823            0.0          1.0         0.0          1.0  ...   \n",
       "1824            1.0          0.0         0.0          1.0  ...   \n",
       "\n",
       "      TakeMedication_No  TakeMedication_Yes  BreathShortness_No  \\\n",
       "0                   1.0                 0.0                 1.0   \n",
       "1                   1.0                 0.0                 1.0   \n",
       "2                   1.0                 0.0                 1.0   \n",
       "3                   1.0                 0.0                 1.0   \n",
       "4                   1.0                 0.0                 1.0   \n",
       "...                 ...                 ...                 ...   \n",
       "1820                1.0                 0.0                 1.0   \n",
       "1821                1.0                 0.0                 1.0   \n",
       "1822                1.0                 0.0                 1.0   \n",
       "1823                1.0                 0.0                 1.0   \n",
       "1824                1.0                 0.0                 1.0   \n",
       "\n",
       "      BreathShortness_Yes  VisualChanges_No  VisualChanges_Yes  \\\n",
       "0                     0.0               1.0                0.0   \n",
       "1                     0.0               1.0                0.0   \n",
       "2                     0.0               1.0                0.0   \n",
       "3                     0.0               1.0                0.0   \n",
       "4                     0.0               1.0                0.0   \n",
       "...                   ...               ...                ...   \n",
       "1820                  0.0               1.0                0.0   \n",
       "1821                  0.0               1.0                0.0   \n",
       "1822                  0.0               1.0                0.0   \n",
       "1823                  0.0               1.0                0.0   \n",
       "1824                  0.0               1.0                0.0   \n",
       "\n",
       "      NoseBleeding_No  NoseBleeding_Yes  ControlledDiet_No  ControlledDiet_Yes  \n",
       "0                 1.0               0.0                1.0                 0.0  \n",
       "1                 1.0               0.0                1.0                 0.0  \n",
       "2                 1.0               0.0                1.0                 0.0  \n",
       "3                 1.0               0.0                1.0                 0.0  \n",
       "4                 1.0               0.0                1.0                 0.0  \n",
       "...               ...               ...                ...                 ...  \n",
       "1820              1.0               0.0                1.0                 0.0  \n",
       "1821              1.0               0.0                1.0                 0.0  \n",
       "1822              1.0               0.0                1.0                 0.0  \n",
       "1823              1.0               0.0                1.0                 0.0  \n",
       "1824              1.0               0.0                1.0                 0.0  \n",
       "\n",
       "[1825 rows x 22 columns]>"
      ]
     },
     "execution_count": 7,
     "metadata": {},
     "output_type": "execute_result"
    }
   ],
   "source": [
    "df= pd.read_csv(\"../dataset/numerical_processed_patient_data.csv\")\n",
    "df.head"
   ]
  },
  {
   "cell_type": "code",
   "execution_count": 9,
   "id": "48e8eafa",
   "metadata": {},
   "outputs": [],
   "source": [
    "X = df.drop(['Stages'], axis=1) \n",
    "y = df['Stages']  "
   ]
  },
  {
   "cell_type": "code",
   "execution_count": 10,
   "id": "5bc327fa",
   "metadata": {},
   "outputs": [],
   "source": [
    "X_train, X_test, y_train, y_test = train_test_split(\n",
    "    X, y, test_size=0.2, random_state=42, stratify=y  # stratify to keep class distributions\n",
    ")"
   ]
  },
  {
   "cell_type": "code",
   "execution_count": 11,
   "id": "07130272",
   "metadata": {},
   "outputs": [],
   "source": [
    "models = {\n",
    "    'Logistic Regression': LogisticRegression(max_iter=1000),\n",
    "    'Random Forest': RandomForestClassifier(),\n",
    "    'Decision Tree': DecisionTreeClassifier(),\n",
    "    'Gaussian NB': GaussianNB(),\n",
    "    'Multinomial NB': MultinomialNB()\n",
    "}"
   ]
  },
  {
   "cell_type": "code",
   "execution_count": 12,
   "id": "5f81b262",
   "metadata": {},
   "outputs": [],
   "source": [
    "for name, model in models.items():\n",
    "    model.fit(X_train, y_train)"
   ]
  },
  {
   "cell_type": "code",
   "execution_count": null,
   "id": "9a529dfd",
   "metadata": {},
   "outputs": [
    {
     "name": "stdout",
     "output_type": "stream",
     "text": [
      "--- Logistic Regression ---\n",
      "Accuracy: 0.9726027397260274\n",
      "Classification Report:\n",
      "               precision    recall  f1-score   support\n",
      "\n",
      "         0.0       1.00      1.00      1.00        67\n",
      "         1.0       1.00      1.00      1.00       130\n",
      "         2.0       1.00      0.92      0.96       120\n",
      "         3.0       0.83      1.00      0.91        48\n",
      "\n",
      "    accuracy                           0.97       365\n",
      "   macro avg       0.96      0.98      0.97       365\n",
      "weighted avg       0.98      0.97      0.97       365\n",
      "\n",
      "Confusion Matrix:\n",
      " [[ 67   0   0   0]\n",
      " [  0 130   0   0]\n",
      " [  0   0 110  10]\n",
      " [  0   0   0  48]]\n",
      "--- Random Forest ---\n",
      "Accuracy: 1.0\n",
      "Classification Report:\n",
      "               precision    recall  f1-score   support\n",
      "\n",
      "         0.0       1.00      1.00      1.00        67\n",
      "         1.0       1.00      1.00      1.00       130\n",
      "         2.0       1.00      1.00      1.00       120\n",
      "         3.0       1.00      1.00      1.00        48\n",
      "\n",
      "    accuracy                           1.00       365\n",
      "   macro avg       1.00      1.00      1.00       365\n",
      "weighted avg       1.00      1.00      1.00       365\n",
      "\n",
      "Confusion Matrix:\n",
      " [[ 67   0   0   0]\n",
      " [  0 130   0   0]\n",
      " [  0   0 120   0]\n",
      " [  0   0   0  48]]\n",
      "--- Decision Tree ---\n",
      "Accuracy: 1.0\n",
      "Classification Report:\n",
      "               precision    recall  f1-score   support\n",
      "\n",
      "         0.0       1.00      1.00      1.00        67\n",
      "         1.0       1.00      1.00      1.00       130\n",
      "         2.0       1.00      1.00      1.00       120\n",
      "         3.0       1.00      1.00      1.00        48\n",
      "\n",
      "    accuracy                           1.00       365\n",
      "   macro avg       1.00      1.00      1.00       365\n",
      "weighted avg       1.00      1.00      1.00       365\n",
      "\n",
      "Confusion Matrix:\n",
      " [[ 67   0   0   0]\n",
      " [  0 130   0   0]\n",
      " [  0   0 120   0]\n",
      " [  0   0   0  48]]\n",
      "--- Gaussian NB ---\n",
      "Accuracy: 0.8849315068493151\n",
      "Classification Report:\n",
      "               precision    recall  f1-score   support\n",
      "\n",
      "         0.0       1.00      1.00      1.00        67\n",
      "         1.0       1.00      1.00      1.00       130\n",
      "         2.0       1.00      0.65      0.79       120\n",
      "         3.0       0.53      1.00      0.70        48\n",
      "\n",
      "    accuracy                           0.88       365\n",
      "   macro avg       0.88      0.91      0.87       365\n",
      "weighted avg       0.94      0.88      0.89       365\n",
      "\n",
      "Confusion Matrix:\n",
      " [[ 67   0   0   0]\n",
      " [  0 130   0   0]\n",
      " [  0   0  78  42]\n",
      " [  0   0   0  48]]\n",
      "--- Multinomial NB ---\n",
      "Accuracy: 0.9041095890410958\n",
      "Classification Report:\n",
      "               precision    recall  f1-score   support\n",
      "\n",
      "         0.0       1.00      1.00      1.00        67\n",
      "         1.0       1.00      1.00      1.00       130\n",
      "         2.0       1.00      0.71      0.83       120\n",
      "         3.0       0.58      1.00      0.73        48\n",
      "\n",
      "    accuracy                           0.90       365\n",
      "   macro avg       0.89      0.93      0.89       365\n",
      "weighted avg       0.94      0.90      0.91       365\n",
      "\n",
      "Confusion Matrix:\n",
      " [[ 67   0   0   0]\n",
      " [  0 130   0   0]\n",
      " [  0   0  85  35]\n",
      " [  0   0   0  48]]\n"
     ]
    }
   ],
   "source": [
    "for name, model in models.items():\n",
    "    y_pred = model.predict(X_test)\n",
    "    print(f\"--- {name} ---\")\n",
    "    print(\"Accuracy:\", accuracy_score(y_test, y_pred))\n",
    "    print(\"Classification Report:\\n\", classification_report(y_test, y_pred))\n",
    "    print(\"Confusion Matrix:\\n\", confusion_matrix(y_test, y_pred))\n"
   ]
  },
  {
   "cell_type": "code",
   "execution_count": 15,
   "id": "01674764",
   "metadata": {},
   "outputs": [
    {
     "data": {
      "text/plain": [
       "['best_model.pkl']"
      ]
     },
     "execution_count": 15,
     "metadata": {},
     "output_type": "execute_result"
    }
   ],
   "source": [
    "import joblib\n",
    "joblib.dump(models['Random Forest'], 'best_model.pkl')"
   ]
  }
 ],
 "metadata": {
  "kernelspec": {
   "display_name": ".env",
   "language": "python",
   "name": "python3"
  },
  "language_info": {
   "codemirror_mode": {
    "name": "ipython",
    "version": 3
   },
   "file_extension": ".py",
   "mimetype": "text/x-python",
   "name": "python",
   "nbconvert_exporter": "python",
   "pygments_lexer": "ipython3",
   "version": "3.11.7"
  }
 },
 "nbformat": 4,
 "nbformat_minor": 5
}
