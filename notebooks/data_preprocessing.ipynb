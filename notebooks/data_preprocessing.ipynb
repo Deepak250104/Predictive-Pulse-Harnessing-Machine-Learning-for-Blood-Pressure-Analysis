{
 "cells": [
  {
   "cell_type": "markdown",
   "id": "9d939840",
   "metadata": {},
   "source": [
    "### Step 1: Importing dependencies"
   ]
  },
  {
   "cell_type": "code",
   "execution_count": 1,
   "id": "e41d85a3",
   "metadata": {},
   "outputs": [],
   "source": [
    "import pandas as pd\n",
    "from sklearn.preprocessing import OrdinalEncoder, OneHotEncoder\n",
    "from sklearn.compose import ColumnTransformer\n",
    "from sklearn.pipeline import Pipeline\n",
    "import pickle\n",
    "import os"
   ]
  },
  {
   "cell_type": "markdown",
   "id": "54463540",
   "metadata": {},
   "source": [
    "### Step 2: Loading the dataset"
   ]
  },
  {
   "cell_type": "code",
   "execution_count": 2,
   "id": "133f8abe",
   "metadata": {},
   "outputs": [
    {
     "data": {
      "application/vnd.microsoft.datawrangler.viewer.v0+json": {
       "columns": [
        {
         "name": "index",
         "rawType": "int64",
         "type": "integer"
        },
        {
         "name": "C",
         "rawType": "object",
         "type": "string"
        },
        {
         "name": "Age",
         "rawType": "object",
         "type": "string"
        },
        {
         "name": "History",
         "rawType": "object",
         "type": "string"
        },
        {
         "name": "Patient",
         "rawType": "object",
         "type": "string"
        },
        {
         "name": "TakeMedication",
         "rawType": "object",
         "type": "string"
        },
        {
         "name": "Severity",
         "rawType": "object",
         "type": "string"
        },
        {
         "name": "BreathShortness",
         "rawType": "object",
         "type": "string"
        },
        {
         "name": "VisualChanges",
         "rawType": "object",
         "type": "string"
        },
        {
         "name": "NoseBleeding",
         "rawType": "object",
         "type": "string"
        },
        {
         "name": "Whendiagnoused",
         "rawType": "object",
         "type": "string"
        },
        {
         "name": "Systolic",
         "rawType": "object",
         "type": "string"
        },
        {
         "name": "Diastolic",
         "rawType": "object",
         "type": "string"
        },
        {
         "name": "ControlledDiet",
         "rawType": "object",
         "type": "string"
        },
        {
         "name": "Stages",
         "rawType": "object",
         "type": "string"
        }
       ],
       "ref": "ed3bd3c0-7a4e-4ac6-89e4-a3cfb92989c1",
       "rows": [
        [
         "0",
         "Male",
         "18-34",
         "Yes",
         "No",
         "No",
         "Mild",
         "No",
         "No",
         "No ",
         "<1 Year",
         "111 - 120",
         "81 - 90",
         "No",
         "HYPERTENSION (Stage-1)"
        ],
        [
         "1",
         "Female",
         "18-34",
         "Yes",
         "No",
         "No",
         "Mild",
         "No",
         "No",
         "No ",
         "<1 Year",
         "111 - 120",
         "81 - 90",
         "No",
         "HYPERTENSION (Stage-1)"
        ],
        [
         "2",
         "Male",
         "35-50",
         "Yes",
         "No",
         "No",
         "Mild",
         "No",
         "No",
         "No ",
         "<1 Year",
         "111 - 120",
         "81 - 90",
         "No",
         "HYPERTENSION (Stage-1)"
        ],
        [
         "3",
         "Female",
         "35-50",
         "Yes",
         "No",
         "No",
         "Mild",
         "No",
         "No",
         "No ",
         "<1 Year",
         "111 - 120",
         "81 - 90",
         "No",
         "HYPERTENSION (Stage-1)"
        ],
        [
         "4",
         "Male",
         "51-64",
         "Yes",
         "No",
         "No",
         "Mild",
         "No",
         "No",
         "No ",
         "<1 Year",
         "111 - 120",
         "81 - 90",
         "No",
         "HYPERTENSION (Stage-1)"
        ]
       ],
       "shape": {
        "columns": 14,
        "rows": 5
       }
      },
      "text/html": [
       "<div>\n",
       "<style scoped>\n",
       "    .dataframe tbody tr th:only-of-type {\n",
       "        vertical-align: middle;\n",
       "    }\n",
       "\n",
       "    .dataframe tbody tr th {\n",
       "        vertical-align: top;\n",
       "    }\n",
       "\n",
       "    .dataframe thead th {\n",
       "        text-align: right;\n",
       "    }\n",
       "</style>\n",
       "<table border=\"1\" class=\"dataframe\">\n",
       "  <thead>\n",
       "    <tr style=\"text-align: right;\">\n",
       "      <th></th>\n",
       "      <th>C</th>\n",
       "      <th>Age</th>\n",
       "      <th>History</th>\n",
       "      <th>Patient</th>\n",
       "      <th>TakeMedication</th>\n",
       "      <th>Severity</th>\n",
       "      <th>BreathShortness</th>\n",
       "      <th>VisualChanges</th>\n",
       "      <th>NoseBleeding</th>\n",
       "      <th>Whendiagnoused</th>\n",
       "      <th>Systolic</th>\n",
       "      <th>Diastolic</th>\n",
       "      <th>ControlledDiet</th>\n",
       "      <th>Stages</th>\n",
       "    </tr>\n",
       "  </thead>\n",
       "  <tbody>\n",
       "    <tr>\n",
       "      <th>0</th>\n",
       "      <td>Male</td>\n",
       "      <td>18-34</td>\n",
       "      <td>Yes</td>\n",
       "      <td>No</td>\n",
       "      <td>No</td>\n",
       "      <td>Mild</td>\n",
       "      <td>No</td>\n",
       "      <td>No</td>\n",
       "      <td>No</td>\n",
       "      <td>&lt;1 Year</td>\n",
       "      <td>111 - 120</td>\n",
       "      <td>81 - 90</td>\n",
       "      <td>No</td>\n",
       "      <td>HYPERTENSION (Stage-1)</td>\n",
       "    </tr>\n",
       "    <tr>\n",
       "      <th>1</th>\n",
       "      <td>Female</td>\n",
       "      <td>18-34</td>\n",
       "      <td>Yes</td>\n",
       "      <td>No</td>\n",
       "      <td>No</td>\n",
       "      <td>Mild</td>\n",
       "      <td>No</td>\n",
       "      <td>No</td>\n",
       "      <td>No</td>\n",
       "      <td>&lt;1 Year</td>\n",
       "      <td>111 - 120</td>\n",
       "      <td>81 - 90</td>\n",
       "      <td>No</td>\n",
       "      <td>HYPERTENSION (Stage-1)</td>\n",
       "    </tr>\n",
       "    <tr>\n",
       "      <th>2</th>\n",
       "      <td>Male</td>\n",
       "      <td>35-50</td>\n",
       "      <td>Yes</td>\n",
       "      <td>No</td>\n",
       "      <td>No</td>\n",
       "      <td>Mild</td>\n",
       "      <td>No</td>\n",
       "      <td>No</td>\n",
       "      <td>No</td>\n",
       "      <td>&lt;1 Year</td>\n",
       "      <td>111 - 120</td>\n",
       "      <td>81 - 90</td>\n",
       "      <td>No</td>\n",
       "      <td>HYPERTENSION (Stage-1)</td>\n",
       "    </tr>\n",
       "    <tr>\n",
       "      <th>3</th>\n",
       "      <td>Female</td>\n",
       "      <td>35-50</td>\n",
       "      <td>Yes</td>\n",
       "      <td>No</td>\n",
       "      <td>No</td>\n",
       "      <td>Mild</td>\n",
       "      <td>No</td>\n",
       "      <td>No</td>\n",
       "      <td>No</td>\n",
       "      <td>&lt;1 Year</td>\n",
       "      <td>111 - 120</td>\n",
       "      <td>81 - 90</td>\n",
       "      <td>No</td>\n",
       "      <td>HYPERTENSION (Stage-1)</td>\n",
       "    </tr>\n",
       "    <tr>\n",
       "      <th>4</th>\n",
       "      <td>Male</td>\n",
       "      <td>51-64</td>\n",
       "      <td>Yes</td>\n",
       "      <td>No</td>\n",
       "      <td>No</td>\n",
       "      <td>Mild</td>\n",
       "      <td>No</td>\n",
       "      <td>No</td>\n",
       "      <td>No</td>\n",
       "      <td>&lt;1 Year</td>\n",
       "      <td>111 - 120</td>\n",
       "      <td>81 - 90</td>\n",
       "      <td>No</td>\n",
       "      <td>HYPERTENSION (Stage-1)</td>\n",
       "    </tr>\n",
       "  </tbody>\n",
       "</table>\n",
       "</div>"
      ],
      "text/plain": [
       "        C    Age History Patient TakeMedication Severity BreathShortness  \\\n",
       "0    Male  18-34     Yes      No             No     Mild              No   \n",
       "1  Female  18-34     Yes      No             No     Mild              No   \n",
       "2    Male  35-50     Yes      No             No     Mild              No   \n",
       "3  Female  35-50     Yes      No             No     Mild              No   \n",
       "4    Male  51-64     Yes      No             No     Mild              No   \n",
       "\n",
       "  VisualChanges NoseBleeding Whendiagnoused   Systolic Diastolic  \\\n",
       "0            No          No         <1 Year  111 - 120   81 - 90   \n",
       "1            No          No         <1 Year  111 - 120   81 - 90   \n",
       "2            No          No         <1 Year  111 - 120   81 - 90   \n",
       "3            No          No         <1 Year  111 - 120   81 - 90   \n",
       "4            No          No         <1 Year  111 - 120   81 - 90   \n",
       "\n",
       "  ControlledDiet                  Stages  \n",
       "0             No  HYPERTENSION (Stage-1)  \n",
       "1             No  HYPERTENSION (Stage-1)  \n",
       "2             No  HYPERTENSION (Stage-1)  \n",
       "3             No  HYPERTENSION (Stage-1)  \n",
       "4             No  HYPERTENSION (Stage-1)  "
      ]
     },
     "execution_count": 2,
     "metadata": {},
     "output_type": "execute_result"
    }
   ],
   "source": [
    "df = pd.read_csv('../dataset/patient_data.csv')\n",
    "df.head()"
   ]
  },
  {
   "cell_type": "markdown",
   "id": "43eb6995",
   "metadata": {},
   "source": [
    "### Step 3: Renaming the column 'C' to gender"
   ]
  },
  {
   "cell_type": "code",
   "execution_count": 3,
   "id": "3313fcd8",
   "metadata": {},
   "outputs": [
    {
     "data": {
      "application/vnd.microsoft.datawrangler.viewer.v0+json": {
       "columns": [
        {
         "name": "index",
         "rawType": "int64",
         "type": "integer"
        },
        {
         "name": "Gender",
         "rawType": "object",
         "type": "string"
        },
        {
         "name": "Age",
         "rawType": "object",
         "type": "string"
        },
        {
         "name": "History",
         "rawType": "object",
         "type": "string"
        },
        {
         "name": "Patient",
         "rawType": "object",
         "type": "string"
        },
        {
         "name": "TakeMedication",
         "rawType": "object",
         "type": "string"
        },
        {
         "name": "Severity",
         "rawType": "object",
         "type": "string"
        },
        {
         "name": "BreathShortness",
         "rawType": "object",
         "type": "string"
        },
        {
         "name": "VisualChanges",
         "rawType": "object",
         "type": "string"
        },
        {
         "name": "NoseBleeding",
         "rawType": "object",
         "type": "string"
        },
        {
         "name": "Whendiagnoused",
         "rawType": "object",
         "type": "string"
        },
        {
         "name": "Systolic",
         "rawType": "object",
         "type": "string"
        },
        {
         "name": "Diastolic",
         "rawType": "object",
         "type": "string"
        },
        {
         "name": "ControlledDiet",
         "rawType": "object",
         "type": "string"
        },
        {
         "name": "Stages",
         "rawType": "object",
         "type": "string"
        }
       ],
       "ref": "2329ff32-107e-442d-883f-9b1fd1767470",
       "rows": [
        [
         "0",
         "Male",
         "18-34",
         "Yes",
         "No",
         "No",
         "Mild",
         "No",
         "No",
         "No ",
         "<1 Year",
         "111 - 120",
         "81 - 90",
         "No",
         "HYPERTENSION (Stage-1)"
        ],
        [
         "1",
         "Female",
         "18-34",
         "Yes",
         "No",
         "No",
         "Mild",
         "No",
         "No",
         "No ",
         "<1 Year",
         "111 - 120",
         "81 - 90",
         "No",
         "HYPERTENSION (Stage-1)"
        ],
        [
         "2",
         "Male",
         "35-50",
         "Yes",
         "No",
         "No",
         "Mild",
         "No",
         "No",
         "No ",
         "<1 Year",
         "111 - 120",
         "81 - 90",
         "No",
         "HYPERTENSION (Stage-1)"
        ],
        [
         "3",
         "Female",
         "35-50",
         "Yes",
         "No",
         "No",
         "Mild",
         "No",
         "No",
         "No ",
         "<1 Year",
         "111 - 120",
         "81 - 90",
         "No",
         "HYPERTENSION (Stage-1)"
        ],
        [
         "4",
         "Male",
         "51-64",
         "Yes",
         "No",
         "No",
         "Mild",
         "No",
         "No",
         "No ",
         "<1 Year",
         "111 - 120",
         "81 - 90",
         "No",
         "HYPERTENSION (Stage-1)"
        ]
       ],
       "shape": {
        "columns": 14,
        "rows": 5
       }
      },
      "text/html": [
       "<div>\n",
       "<style scoped>\n",
       "    .dataframe tbody tr th:only-of-type {\n",
       "        vertical-align: middle;\n",
       "    }\n",
       "\n",
       "    .dataframe tbody tr th {\n",
       "        vertical-align: top;\n",
       "    }\n",
       "\n",
       "    .dataframe thead th {\n",
       "        text-align: right;\n",
       "    }\n",
       "</style>\n",
       "<table border=\"1\" class=\"dataframe\">\n",
       "  <thead>\n",
       "    <tr style=\"text-align: right;\">\n",
       "      <th></th>\n",
       "      <th>Gender</th>\n",
       "      <th>Age</th>\n",
       "      <th>History</th>\n",
       "      <th>Patient</th>\n",
       "      <th>TakeMedication</th>\n",
       "      <th>Severity</th>\n",
       "      <th>BreathShortness</th>\n",
       "      <th>VisualChanges</th>\n",
       "      <th>NoseBleeding</th>\n",
       "      <th>Whendiagnoused</th>\n",
       "      <th>Systolic</th>\n",
       "      <th>Diastolic</th>\n",
       "      <th>ControlledDiet</th>\n",
       "      <th>Stages</th>\n",
       "    </tr>\n",
       "  </thead>\n",
       "  <tbody>\n",
       "    <tr>\n",
       "      <th>0</th>\n",
       "      <td>Male</td>\n",
       "      <td>18-34</td>\n",
       "      <td>Yes</td>\n",
       "      <td>No</td>\n",
       "      <td>No</td>\n",
       "      <td>Mild</td>\n",
       "      <td>No</td>\n",
       "      <td>No</td>\n",
       "      <td>No</td>\n",
       "      <td>&lt;1 Year</td>\n",
       "      <td>111 - 120</td>\n",
       "      <td>81 - 90</td>\n",
       "      <td>No</td>\n",
       "      <td>HYPERTENSION (Stage-1)</td>\n",
       "    </tr>\n",
       "    <tr>\n",
       "      <th>1</th>\n",
       "      <td>Female</td>\n",
       "      <td>18-34</td>\n",
       "      <td>Yes</td>\n",
       "      <td>No</td>\n",
       "      <td>No</td>\n",
       "      <td>Mild</td>\n",
       "      <td>No</td>\n",
       "      <td>No</td>\n",
       "      <td>No</td>\n",
       "      <td>&lt;1 Year</td>\n",
       "      <td>111 - 120</td>\n",
       "      <td>81 - 90</td>\n",
       "      <td>No</td>\n",
       "      <td>HYPERTENSION (Stage-1)</td>\n",
       "    </tr>\n",
       "    <tr>\n",
       "      <th>2</th>\n",
       "      <td>Male</td>\n",
       "      <td>35-50</td>\n",
       "      <td>Yes</td>\n",
       "      <td>No</td>\n",
       "      <td>No</td>\n",
       "      <td>Mild</td>\n",
       "      <td>No</td>\n",
       "      <td>No</td>\n",
       "      <td>No</td>\n",
       "      <td>&lt;1 Year</td>\n",
       "      <td>111 - 120</td>\n",
       "      <td>81 - 90</td>\n",
       "      <td>No</td>\n",
       "      <td>HYPERTENSION (Stage-1)</td>\n",
       "    </tr>\n",
       "    <tr>\n",
       "      <th>3</th>\n",
       "      <td>Female</td>\n",
       "      <td>35-50</td>\n",
       "      <td>Yes</td>\n",
       "      <td>No</td>\n",
       "      <td>No</td>\n",
       "      <td>Mild</td>\n",
       "      <td>No</td>\n",
       "      <td>No</td>\n",
       "      <td>No</td>\n",
       "      <td>&lt;1 Year</td>\n",
       "      <td>111 - 120</td>\n",
       "      <td>81 - 90</td>\n",
       "      <td>No</td>\n",
       "      <td>HYPERTENSION (Stage-1)</td>\n",
       "    </tr>\n",
       "    <tr>\n",
       "      <th>4</th>\n",
       "      <td>Male</td>\n",
       "      <td>51-64</td>\n",
       "      <td>Yes</td>\n",
       "      <td>No</td>\n",
       "      <td>No</td>\n",
       "      <td>Mild</td>\n",
       "      <td>No</td>\n",
       "      <td>No</td>\n",
       "      <td>No</td>\n",
       "      <td>&lt;1 Year</td>\n",
       "      <td>111 - 120</td>\n",
       "      <td>81 - 90</td>\n",
       "      <td>No</td>\n",
       "      <td>HYPERTENSION (Stage-1)</td>\n",
       "    </tr>\n",
       "  </tbody>\n",
       "</table>\n",
       "</div>"
      ],
      "text/plain": [
       "   Gender    Age History Patient TakeMedication Severity BreathShortness  \\\n",
       "0    Male  18-34     Yes      No             No     Mild              No   \n",
       "1  Female  18-34     Yes      No             No     Mild              No   \n",
       "2    Male  35-50     Yes      No             No     Mild              No   \n",
       "3  Female  35-50     Yes      No             No     Mild              No   \n",
       "4    Male  51-64     Yes      No             No     Mild              No   \n",
       "\n",
       "  VisualChanges NoseBleeding Whendiagnoused   Systolic Diastolic  \\\n",
       "0            No          No         <1 Year  111 - 120   81 - 90   \n",
       "1            No          No         <1 Year  111 - 120   81 - 90   \n",
       "2            No          No         <1 Year  111 - 120   81 - 90   \n",
       "3            No          No         <1 Year  111 - 120   81 - 90   \n",
       "4            No          No         <1 Year  111 - 120   81 - 90   \n",
       "\n",
       "  ControlledDiet                  Stages  \n",
       "0             No  HYPERTENSION (Stage-1)  \n",
       "1             No  HYPERTENSION (Stage-1)  \n",
       "2             No  HYPERTENSION (Stage-1)  \n",
       "3             No  HYPERTENSION (Stage-1)  \n",
       "4             No  HYPERTENSION (Stage-1)  "
      ]
     },
     "execution_count": 3,
     "metadata": {},
     "output_type": "execute_result"
    }
   ],
   "source": [
    "df.rename(columns={'C': 'Gender'}, inplace=True)\n",
    "df.head()"
   ]
  },
  {
   "cell_type": "markdown",
   "id": "7c1816e7",
   "metadata": {},
   "source": [
    "### Step 4: Check for Missing Values"
   ]
  },
  {
   "cell_type": "code",
   "execution_count": 4,
   "id": "a198285b",
   "metadata": {},
   "outputs": [
    {
     "data": {
      "application/vnd.microsoft.datawrangler.viewer.v0+json": {
       "columns": [
        {
         "name": "index",
         "rawType": "object",
         "type": "string"
        },
        {
         "name": "0",
         "rawType": "int64",
         "type": "integer"
        }
       ],
       "ref": "fffa684c-1907-4d39-9fef-af9e29de791e",
       "rows": [
        [
         "Gender",
         "0"
        ],
        [
         "Age",
         "0"
        ],
        [
         "History",
         "0"
        ],
        [
         "Patient",
         "0"
        ],
        [
         "TakeMedication",
         "0"
        ],
        [
         "Severity",
         "0"
        ],
        [
         "BreathShortness",
         "0"
        ],
        [
         "VisualChanges",
         "0"
        ],
        [
         "NoseBleeding",
         "0"
        ],
        [
         "Whendiagnoused",
         "0"
        ],
        [
         "Systolic",
         "0"
        ],
        [
         "Diastolic",
         "0"
        ],
        [
         "ControlledDiet",
         "0"
        ],
        [
         "Stages",
         "0"
        ]
       ],
       "shape": {
        "columns": 1,
        "rows": 14
       }
      },
      "text/plain": [
       "Gender             0\n",
       "Age                0\n",
       "History            0\n",
       "Patient            0\n",
       "TakeMedication     0\n",
       "Severity           0\n",
       "BreathShortness    0\n",
       "VisualChanges      0\n",
       "NoseBleeding       0\n",
       "Whendiagnoused     0\n",
       "Systolic           0\n",
       "Diastolic          0\n",
       "ControlledDiet     0\n",
       "Stages             0\n",
       "dtype: int64"
      ]
     },
     "execution_count": 4,
     "metadata": {},
     "output_type": "execute_result"
    }
   ],
   "source": [
    "df.isnull().sum()"
   ]
  },
  {
   "cell_type": "code",
   "execution_count": 5,
   "id": "004a5731",
   "metadata": {},
   "outputs": [
    {
     "data": {
      "application/vnd.microsoft.datawrangler.viewer.v0+json": {
       "columns": [
        {
         "name": "index",
         "rawType": "object",
         "type": "string"
        },
        {
         "name": "Gender",
         "rawType": "object",
         "type": "unknown"
        },
        {
         "name": "Age",
         "rawType": "object",
         "type": "unknown"
        },
        {
         "name": "History",
         "rawType": "object",
         "type": "unknown"
        },
        {
         "name": "Patient",
         "rawType": "object",
         "type": "unknown"
        },
        {
         "name": "TakeMedication",
         "rawType": "object",
         "type": "unknown"
        },
        {
         "name": "Severity",
         "rawType": "object",
         "type": "unknown"
        },
        {
         "name": "BreathShortness",
         "rawType": "object",
         "type": "unknown"
        },
        {
         "name": "VisualChanges",
         "rawType": "object",
         "type": "unknown"
        },
        {
         "name": "NoseBleeding",
         "rawType": "object",
         "type": "unknown"
        },
        {
         "name": "Whendiagnoused",
         "rawType": "object",
         "type": "unknown"
        },
        {
         "name": "Systolic",
         "rawType": "object",
         "type": "unknown"
        },
        {
         "name": "Diastolic",
         "rawType": "object",
         "type": "unknown"
        },
        {
         "name": "ControlledDiet",
         "rawType": "object",
         "type": "unknown"
        },
        {
         "name": "Stages",
         "rawType": "object",
         "type": "unknown"
        }
       ],
       "ref": "52137571-37a5-47d0-8d04-ce6e716fe019",
       "rows": [
        [
         "count",
         "1825",
         "1825",
         "1825",
         "1825",
         "1825",
         "1825",
         "1825",
         "1825",
         "1825",
         "1825",
         "1825",
         "1825",
         "1825",
         "1825"
        ],
        [
         "unique",
         "2",
         "4",
         "2",
         "2",
         "3",
         "3",
         "2",
         "2",
         "3",
         "3",
         "5",
         "5",
         "2",
         "6"
        ],
        [
         "top",
         "Female",
         "51-64",
         "Yes",
         "No",
         "No",
         "Moderate",
         "No",
         "No",
         "No ",
         "<1 Year",
         "111 - 120",
         "81 - 90",
         "No",
         "HYPERTENSION (Stage-1)"
        ],
        [
         "freq",
         "913",
         "475",
         "1657",
         "984",
         "744",
         "697",
         "976",
         "940",
         "984",
         "625",
         "1008",
         "708",
         "984",
         "648"
        ]
       ],
       "shape": {
        "columns": 14,
        "rows": 4
       }
      },
      "text/html": [
       "<div>\n",
       "<style scoped>\n",
       "    .dataframe tbody tr th:only-of-type {\n",
       "        vertical-align: middle;\n",
       "    }\n",
       "\n",
       "    .dataframe tbody tr th {\n",
       "        vertical-align: top;\n",
       "    }\n",
       "\n",
       "    .dataframe thead th {\n",
       "        text-align: right;\n",
       "    }\n",
       "</style>\n",
       "<table border=\"1\" class=\"dataframe\">\n",
       "  <thead>\n",
       "    <tr style=\"text-align: right;\">\n",
       "      <th></th>\n",
       "      <th>Gender</th>\n",
       "      <th>Age</th>\n",
       "      <th>History</th>\n",
       "      <th>Patient</th>\n",
       "      <th>TakeMedication</th>\n",
       "      <th>Severity</th>\n",
       "      <th>BreathShortness</th>\n",
       "      <th>VisualChanges</th>\n",
       "      <th>NoseBleeding</th>\n",
       "      <th>Whendiagnoused</th>\n",
       "      <th>Systolic</th>\n",
       "      <th>Diastolic</th>\n",
       "      <th>ControlledDiet</th>\n",
       "      <th>Stages</th>\n",
       "    </tr>\n",
       "  </thead>\n",
       "  <tbody>\n",
       "    <tr>\n",
       "      <th>count</th>\n",
       "      <td>1825</td>\n",
       "      <td>1825</td>\n",
       "      <td>1825</td>\n",
       "      <td>1825</td>\n",
       "      <td>1825</td>\n",
       "      <td>1825</td>\n",
       "      <td>1825</td>\n",
       "      <td>1825</td>\n",
       "      <td>1825</td>\n",
       "      <td>1825</td>\n",
       "      <td>1825</td>\n",
       "      <td>1825</td>\n",
       "      <td>1825</td>\n",
       "      <td>1825</td>\n",
       "    </tr>\n",
       "    <tr>\n",
       "      <th>unique</th>\n",
       "      <td>2</td>\n",
       "      <td>4</td>\n",
       "      <td>2</td>\n",
       "      <td>2</td>\n",
       "      <td>3</td>\n",
       "      <td>3</td>\n",
       "      <td>2</td>\n",
       "      <td>2</td>\n",
       "      <td>3</td>\n",
       "      <td>3</td>\n",
       "      <td>5</td>\n",
       "      <td>5</td>\n",
       "      <td>2</td>\n",
       "      <td>6</td>\n",
       "    </tr>\n",
       "    <tr>\n",
       "      <th>top</th>\n",
       "      <td>Female</td>\n",
       "      <td>51-64</td>\n",
       "      <td>Yes</td>\n",
       "      <td>No</td>\n",
       "      <td>No</td>\n",
       "      <td>Moderate</td>\n",
       "      <td>No</td>\n",
       "      <td>No</td>\n",
       "      <td>No</td>\n",
       "      <td>&lt;1 Year</td>\n",
       "      <td>111 - 120</td>\n",
       "      <td>81 - 90</td>\n",
       "      <td>No</td>\n",
       "      <td>HYPERTENSION (Stage-1)</td>\n",
       "    </tr>\n",
       "    <tr>\n",
       "      <th>freq</th>\n",
       "      <td>913</td>\n",
       "      <td>475</td>\n",
       "      <td>1657</td>\n",
       "      <td>984</td>\n",
       "      <td>744</td>\n",
       "      <td>697</td>\n",
       "      <td>976</td>\n",
       "      <td>940</td>\n",
       "      <td>984</td>\n",
       "      <td>625</td>\n",
       "      <td>1008</td>\n",
       "      <td>708</td>\n",
       "      <td>984</td>\n",
       "      <td>648</td>\n",
       "    </tr>\n",
       "  </tbody>\n",
       "</table>\n",
       "</div>"
      ],
      "text/plain": [
       "        Gender    Age History Patient TakeMedication  Severity  \\\n",
       "count     1825   1825    1825    1825           1825      1825   \n",
       "unique       2      4       2       2              3         3   \n",
       "top     Female  51-64     Yes      No             No  Moderate   \n",
       "freq       913    475    1657     984            744       697   \n",
       "\n",
       "       BreathShortness VisualChanges NoseBleeding Whendiagnoused   Systolic  \\\n",
       "count             1825          1825         1825           1825       1825   \n",
       "unique               2             2            3              3          5   \n",
       "top                 No            No          No         <1 Year  111 - 120   \n",
       "freq               976           940          984            625       1008   \n",
       "\n",
       "       Diastolic ControlledDiet                  Stages  \n",
       "count       1825           1825                    1825  \n",
       "unique         5              2                       6  \n",
       "top      81 - 90             No  HYPERTENSION (Stage-1)  \n",
       "freq         708            984                     648  "
      ]
     },
     "execution_count": 5,
     "metadata": {},
     "output_type": "execute_result"
    }
   ],
   "source": [
    "df.describe()"
   ]
  },
  {
   "cell_type": "markdown",
   "id": "f18c79fb",
   "metadata": {},
   "source": [
    "### Step 5: Inspect Data Types\n",
    "Confirming that all columns are currently `object` (string) type, indicating they need encoding.\n",
    "\n"
   ]
  },
  {
   "cell_type": "code",
   "execution_count": 6,
   "id": "8164cfbc",
   "metadata": {},
   "outputs": [
    {
     "name": "stdout",
     "output_type": "stream",
     "text": [
      "DataFrame Info (Data Types and Non-Null Counts):\n",
      "<class 'pandas.core.frame.DataFrame'>\n",
      "RangeIndex: 1825 entries, 0 to 1824\n",
      "Data columns (total 14 columns):\n",
      " #   Column           Non-Null Count  Dtype \n",
      "---  ------           --------------  ----- \n",
      " 0   Gender           1825 non-null   object\n",
      " 1   Age              1825 non-null   object\n",
      " 2   History          1825 non-null   object\n",
      " 3   Patient          1825 non-null   object\n",
      " 4   TakeMedication   1825 non-null   object\n",
      " 5   Severity         1825 non-null   object\n",
      " 6   BreathShortness  1825 non-null   object\n",
      " 7   VisualChanges    1825 non-null   object\n",
      " 8   NoseBleeding     1825 non-null   object\n",
      " 9   Whendiagnoused   1825 non-null   object\n",
      " 10  Systolic         1825 non-null   object\n",
      " 11  Diastolic        1825 non-null   object\n",
      " 12  ControlledDiet   1825 non-null   object\n",
      " 13  Stages           1825 non-null   object\n",
      "dtypes: object(14)\n",
      "memory usage: 199.7+ KB\n"
     ]
    }
   ],
   "source": [
    "print(\"DataFrame Info (Data Types and Non-Null Counts):\")\n",
    "df.info()"
   ]
  },
  {
   "cell_type": "markdown",
   "id": "9fdab176",
   "metadata": {},
   "source": [
    "Discover Unique Values for Categorical Columns\n",
    "\n",
    "We will use `df['column_name'].unique()` to get all distinct values."
   ]
  },
  {
   "cell_type": "code",
   "execution_count": 7,
   "id": "c4868926",
   "metadata": {},
   "outputs": [
    {
     "data": {
      "text/plain": [
       "Index(['Gender', 'Age', 'History', 'Patient', 'TakeMedication', 'Severity',\n",
       "       'BreathShortness', 'VisualChanges', 'NoseBleeding', 'Whendiagnoused',\n",
       "       'Systolic', 'Diastolic', 'ControlledDiet', 'Stages'],\n",
       "      dtype='object')"
      ]
     },
     "execution_count": 7,
     "metadata": {},
     "output_type": "execute_result"
    }
   ],
   "source": [
    "df.columns"
   ]
  },
  {
   "cell_type": "code",
   "execution_count": 8,
   "id": "376eda8d",
   "metadata": {},
   "outputs": [
    {
     "name": "stdout",
     "output_type": "stream",
     "text": [
      "--- Unique Values for 'Gender' ---\n",
      "Column: Gender, Data Type: object, Unique Values: ['Male' 'Female']\n",
      "----------------------------------------\n",
      "--- Unique Values for 'Age' ---\n",
      "Column: Age, Data Type: object, Unique Values: ['18-34' '35-50' '51-64' '65+']\n",
      "----------------------------------------\n",
      "--- Unique Values for 'History' ---\n",
      "Column: History, Data Type: object, Unique Values: ['Yes' 'No']\n",
      "----------------------------------------\n",
      "--- Unique Values for 'Patient' ---\n",
      "Column: Patient, Data Type: object, Unique Values: ['No' 'Yes']\n",
      "----------------------------------------\n",
      "--- Unique Values for 'TakeMedication' ---\n",
      "Column: TakeMedication, Data Type: object, Unique Values: ['No' 'Yes ' 'Yes']\n",
      "----------------------------------------\n",
      "--- Unique Values for 'Severity' ---\n",
      "Column: Severity, Data Type: object, Unique Values: ['Mild' 'Sever' 'Moderate']\n",
      "----------------------------------------\n",
      "--- Unique Values for 'BreathShortness' ---\n",
      "Column: BreathShortness, Data Type: object, Unique Values: ['No' 'Yes']\n",
      "----------------------------------------\n",
      "--- Unique Values for 'VisualChanges' ---\n",
      "Column: VisualChanges, Data Type: object, Unique Values: ['No' 'Yes']\n",
      "----------------------------------------\n",
      "--- Unique Values for 'NoseBleeding' ---\n",
      "Column: NoseBleeding, Data Type: object, Unique Values: ['No ' 'No' 'Yes']\n",
      "----------------------------------------\n",
      "--- Unique Values for 'Whendiagnoused' ---\n",
      "Column: Whendiagnoused, Data Type: object, Unique Values: ['<1 Year' '1 - 5 Years' '>5 Years']\n",
      "----------------------------------------\n",
      "--- Unique Values for 'Systolic' ---\n",
      "Column: Systolic, Data Type: object, Unique Values: ['111 - 120' '121- 130' '130+' '100+' '121 - 130']\n",
      "----------------------------------------\n",
      "--- Unique Values for 'Diastolic' ---\n",
      "Column: Diastolic, Data Type: object, Unique Values: ['81 - 90' '91 - 100' '100+' '130+' '70 - 80']\n",
      "----------------------------------------\n",
      "--- Unique Values for 'ControlledDiet' ---\n",
      "Column: ControlledDiet, Data Type: object, Unique Values: ['No' 'Yes']\n",
      "----------------------------------------\n",
      "--- Unique Values for 'Stages' ---\n",
      "Column: Stages, Data Type: object, Unique Values: ['HYPERTENSION (Stage-1)' 'HYPERTENSION (Stage-2)' 'HYPERTENSIVE CRISIS'\n",
      " 'HYPERTENSION (Stage-2).' 'HYPERTENSIVE CRISI' 'NORMAL']\n",
      "----------------------------------------\n"
     ]
    }
   ],
   "source": [
    "for col in df.columns:\n",
    "    print(f\"--- Unique Values for '{col}' ---\")\n",
    "    print(f\"Column: {col}, Data Type: {df[col].dtype}, Unique Values: {df[col].unique()}\")\n",
    "    print(\"-\" * 40)"
   ]
  },
  {
   "cell_type": "markdown",
   "id": "eb278746",
   "metadata": {},
   "source": [
    "### Step 6: Data Cleaning - Resolving Typos and Inconsistencies\n",
    "This is to ensure that each unique concept has a single, consistent representation."
   ]
  },
  {
   "cell_type": "code",
   "execution_count": 9,
   "id": "34c516e1",
   "metadata": {},
   "outputs": [
    {
     "name": "stdout",
     "output_type": "stream",
     "text": [
      "--- Starting Data Cleaning for Inconsistencies ---\n",
      "1. Applied .str.strip() to all object columns to handle whitespace issues.\n",
      "2. Corrected 'Sever' to 'Severe' in 'Severity' column.\n",
      "3. Corrected typos and punctuation in 'Stages' column.\n",
      "4. Corrected inconsistent spacing in 'Systolic' column.\n",
      "\n",
      "--- Re-checking Unique Values After Cleaning ---\n",
      "--- Unique Values for 'Gender' ---\n",
      "Column: Gender, Data Type: object, Unique Values: ['Male' 'Female']\n",
      "----------------------------------------\n",
      "--- Unique Values for 'Age' ---\n",
      "Column: Age, Data Type: object, Unique Values: ['18-34' '35-50' '51-64' '65+']\n",
      "----------------------------------------\n",
      "--- Unique Values for 'History' ---\n",
      "Column: History, Data Type: object, Unique Values: ['Yes' 'No']\n",
      "----------------------------------------\n",
      "--- Unique Values for 'Patient' ---\n",
      "Column: Patient, Data Type: object, Unique Values: ['No' 'Yes']\n",
      "----------------------------------------\n",
      "--- Unique Values for 'TakeMedication' ---\n",
      "Column: TakeMedication, Data Type: object, Unique Values: ['No' 'Yes']\n",
      "----------------------------------------\n",
      "--- Unique Values for 'Severity' ---\n",
      "Column: Severity, Data Type: object, Unique Values: ['Mild' 'Severe' 'Moderate']\n",
      "----------------------------------------\n",
      "--- Unique Values for 'BreathShortness' ---\n",
      "Column: BreathShortness, Data Type: object, Unique Values: ['No' 'Yes']\n",
      "----------------------------------------\n",
      "--- Unique Values for 'VisualChanges' ---\n",
      "Column: VisualChanges, Data Type: object, Unique Values: ['No' 'Yes']\n",
      "----------------------------------------\n",
      "--- Unique Values for 'NoseBleeding' ---\n",
      "Column: NoseBleeding, Data Type: object, Unique Values: ['No' 'Yes']\n",
      "----------------------------------------\n",
      "--- Unique Values for 'Whendiagnoused' ---\n",
      "Column: Whendiagnoused, Data Type: object, Unique Values: ['<1 Year' '1 - 5 Years' '>5 Years']\n",
      "----------------------------------------\n",
      "--- Unique Values for 'Systolic' ---\n",
      "Column: Systolic, Data Type: object, Unique Values: ['111 - 120' '121 - 130' '130+' '100+']\n",
      "----------------------------------------\n",
      "--- Unique Values for 'Diastolic' ---\n",
      "Column: Diastolic, Data Type: object, Unique Values: ['81 - 90' '91 - 100' '100+' '130+' '70 - 80']\n",
      "----------------------------------------\n",
      "--- Unique Values for 'ControlledDiet' ---\n",
      "Column: ControlledDiet, Data Type: object, Unique Values: ['No' 'Yes']\n",
      "----------------------------------------\n",
      "--- Unique Values for 'Stages' ---\n",
      "Column: Stages, Data Type: object, Unique Values: ['HYPERTENSION (Stage-1)' 'HYPERTENSION (Stage-2)' 'HYPERTENSIVE CRISIS'\n",
      " 'NORMAL']\n",
      "----------------------------------------\n"
     ]
    }
   ],
   "source": [
    "print(\"--- Starting Data Cleaning for Inconsistencies ---\")\n",
    "\n",
    "# 1. Apply .str.strip() to all object columns to remove leading/trailing whitespace\n",
    "# This resolves 'Yes ' vs 'Yes' and 'No ' vs 'No'\n",
    "for col in df.select_dtypes(include=['object']).columns:\n",
    "    df[col] = df[col].str.strip()\n",
    "print(\"1. Applied .str.strip() to all object columns to handle whitespace issues.\")\n",
    "\n",
    "# 2. Correct specific spelling/punctuation typos using .replace()\n",
    "\n",
    "# Severity column: 'Sever' should be 'Severe'\n",
    "df['Severity'] = df['Severity'].replace('Sever', 'Severe')\n",
    "print(\"2. Corrected 'Sever' to 'Severe' in 'Severity' column.\")\n",
    "\n",
    "# Stages column: Address punctuation and spelling issues\n",
    "df['Stages'] = df['Stages'].replace('HYPERTENSION (Stage-2).', 'HYPERTENSION (Stage-2)')\n",
    "df['Stages'] = df['Stages'].replace('HYPERTENSIVE CRISI', 'HYPERTENSIVE CRISIS')\n",
    "print(\"3. Corrected typos and punctuation in 'Stages' column.\")\n",
    "\n",
    "# Systolic column: Fix inconsistent spacing for ranges\n",
    "df['Systolic'] = df['Systolic'].replace('121- 130', '121 - 130')\n",
    "print(\"4. Corrected inconsistent spacing in 'Systolic' column.\")\n",
    "\n",
    "print(\"\\n--- Re-checking Unique Values After Cleaning ---\")\n",
    "for col in df.columns:\n",
    "    print(f\"--- Unique Values for '{col}' ---\")\n",
    "    print(f\"Column: {col}, Data Type: {df[col].dtype}, Unique Values: {df[col].unique()}\")\n",
    "    print(\"-\" * 40)"
   ]
  },
  {
   "cell_type": "markdown",
   "id": "ed1fc22e",
   "metadata": {},
   "source": [
    "### Step 7: Handle Categorical Data\n",
    "Transforming string-based categorical features into numerical formats suitable for machine learning models. We'll differentiate between Nominal and Ordinal categories."
   ]
  },
  {
   "cell_type": "markdown",
   "id": "e9765440",
   "metadata": {},
   "source": [
    "Define Ordinal Columns and their specific, ORDERED categories\n",
    "\n",
    "The order reflects a logical, typically increasing, severity or quantity."
   ]
  },
  {
   "cell_type": "code",
   "execution_count": 10,
   "id": "e2c40fe7",
   "metadata": {},
   "outputs": [],
   "source": [
    "ordinal_cols_and_order = {\n",
    "    'Age': ['18-34', '35-50', '51-64', '65+'],\n",
    "    'Severity': ['Mild', 'Moderate', 'Severe'],\n",
    "    'Whendiagnoused': ['<1 Year', '1 - 5 Years', '>5 Years'],\n",
    "    'Systolic': ['100+', '111 - 120', '121 - 130', '130+'],\n",
    "    'Diastolic': ['70 - 80', '81 - 90', '91 - 100', '100+', '130+'],\n",
    "    'Stages': ['NORMAL', 'HYPERTENSION (Stage-1)', 'HYPERTENSION (Stage-2)', 'HYPERTENSIVE CRISIS']\n",
    "}\n",
    "\n",
    "# Extract just the column names for ordinal encoding\n",
    "ordinal_features = list(ordinal_cols_and_order.keys())"
   ]
  },
  {
   "cell_type": "markdown",
   "id": "9b62d93d",
   "metadata": {},
   "source": [
    "Define Nominal Columns (no inherent order, just a list of column names)\n",
    "\n",
    "Things like 'Yes' and 'No' those that can be converted to binary values."
   ]
  },
  {
   "cell_type": "code",
   "execution_count": 11,
   "id": "d9269fa6",
   "metadata": {},
   "outputs": [
    {
     "name": "stdout",
     "output_type": "stream",
     "text": [
      "\n",
      "All DataFrame columns successfully identified as either ordinal or nominal features.\n"
     ]
    }
   ],
   "source": [
    "nominal_features = [\n",
    "    'Gender',\n",
    "    'History',\n",
    "    'Patient',\n",
    "    'TakeMedication',\n",
    "    'BreathShortness',\n",
    "    'VisualChanges',\n",
    "    'NoseBleeding',\n",
    "    'ControlledDiet'\n",
    "]\n",
    "\n",
    "# Verify all columns are covered\n",
    "all_expected_columns = set(df.columns)\n",
    "identified_features = set(ordinal_features + nominal_features)\n",
    "\n",
    "if all_expected_columns != identified_features:\n",
    "    print(\"\\nWARNING: Mismatch in column identification!\")\n",
    "    print(f\"Columns in DataFrame but not identified: {all_expected_columns - identified_features}\")\n",
    "    print(f\"Columns identified but not in DataFrame: {identified_features - all_expected_columns}\")\n",
    "else:\n",
    "    print(\"\\nAll DataFrame columns successfully identified as either ordinal or nominal features.\")"
   ]
  },
  {
   "cell_type": "markdown",
   "id": "a01caad1",
   "metadata": {},
   "source": [
    "Create and Apply ColumnTransformer for Encoding\n",
    "\n",
    "This step applies `OrdinalEncoder` to ordinal features and `OneHotEncoder` to nominal features,\n",
    "creating a fully numerical DataFrame."
   ]
  },
  {
   "cell_type": "code",
   "execution_count": 12,
   "id": "8ec9de56",
   "metadata": {},
   "outputs": [],
   "source": [
    "preprocessor = ColumnTransformer(\n",
    "    transformers=[\n",
    "        # Apply OrdinalEncoder to ordinal features with their defined categories\n",
    "        ('ord', OrdinalEncoder(categories=[ordinal_cols_and_order[col] for col in ordinal_features]), ordinal_features),\n",
    "        # Apply OneHotEncoder to nominal features\n",
    "        ('ohe', OneHotEncoder(handle_unknown='ignore', sparse_output=False), nominal_features)\n",
    "    ],\n",
    "    remainder='passthrough' # Keep any columns not explicitly transformed (should be none here as all are identified)\n",
    ")\n",
    "\n",
    "# The output of ColumnTransformer is a NumPy array.\n",
    "df_processed_array = preprocessor.fit_transform(df)\n",
    "\n",
    "# Get the names of the new columns after transformation\n",
    "# Ordinal features retain their original names\n",
    "ordinal_transformed_names = ordinal_features\n",
    "\n",
    "# One-Hot Encoded features get new names (e.g., 'Gender_Male', 'Gender_Female')\n",
    "ohe_transformed_names = preprocessor.named_transformers_['ohe'].get_feature_names_out(nominal_features)\n",
    "\n",
    "# Combine all new column names for the resulting DataFrame\n",
    "all_transformed_column_names = list(ordinal_transformed_names) + list(ohe_transformed_names)\n",
    "\n",
    "# Create the new DataFrame with processed data and correct column names\n",
    "df_processed = pd.DataFrame(df_processed_array, columns=all_transformed_column_names)\n"
   ]
  },
  {
   "cell_type": "markdown",
   "id": "70a7343c",
   "metadata": {},
   "source": [
    "Verify Processed DataFrame"
   ]
  },
  {
   "cell_type": "code",
   "execution_count": 13,
   "id": "2386d860",
   "metadata": {},
   "outputs": [
    {
     "name": "stdout",
     "output_type": "stream",
     "text": [
      "<class 'pandas.core.frame.DataFrame'>\n",
      "RangeIndex: 1825 entries, 0 to 1824\n",
      "Data columns (total 22 columns):\n",
      " #   Column               Non-Null Count  Dtype  \n",
      "---  ------               --------------  -----  \n",
      " 0   Age                  1825 non-null   float64\n",
      " 1   Severity             1825 non-null   float64\n",
      " 2   Whendiagnoused       1825 non-null   float64\n",
      " 3   Systolic             1825 non-null   float64\n",
      " 4   Diastolic            1825 non-null   float64\n",
      " 5   Stages               1825 non-null   float64\n",
      " 6   Gender_Female        1825 non-null   float64\n",
      " 7   Gender_Male          1825 non-null   float64\n",
      " 8   History_No           1825 non-null   float64\n",
      " 9   History_Yes          1825 non-null   float64\n",
      " 10  Patient_No           1825 non-null   float64\n",
      " 11  Patient_Yes          1825 non-null   float64\n",
      " 12  TakeMedication_No    1825 non-null   float64\n",
      " 13  TakeMedication_Yes   1825 non-null   float64\n",
      " 14  BreathShortness_No   1825 non-null   float64\n",
      " 15  BreathShortness_Yes  1825 non-null   float64\n",
      " 16  VisualChanges_No     1825 non-null   float64\n",
      " 17  VisualChanges_Yes    1825 non-null   float64\n",
      " 18  NoseBleeding_No      1825 non-null   float64\n",
      " 19  NoseBleeding_Yes     1825 non-null   float64\n",
      " 20  ControlledDiet_No    1825 non-null   float64\n",
      " 21  ControlledDiet_Yes   1825 non-null   float64\n",
      "dtypes: float64(22)\n",
      "memory usage: 313.8 KB\n"
     ]
    }
   ],
   "source": [
    "df_processed.info()"
   ]
  },
  {
   "cell_type": "code",
   "execution_count": 14,
   "id": "1a227811",
   "metadata": {},
   "outputs": [
    {
     "data": {
      "application/vnd.microsoft.datawrangler.viewer.v0+json": {
       "columns": [
        {
         "name": "index",
         "rawType": "int64",
         "type": "integer"
        },
        {
         "name": "Age",
         "rawType": "float64",
         "type": "float"
        },
        {
         "name": "Severity",
         "rawType": "float64",
         "type": "float"
        },
        {
         "name": "Whendiagnoused",
         "rawType": "float64",
         "type": "float"
        },
        {
         "name": "Systolic",
         "rawType": "float64",
         "type": "float"
        },
        {
         "name": "Diastolic",
         "rawType": "float64",
         "type": "float"
        },
        {
         "name": "Stages",
         "rawType": "float64",
         "type": "float"
        },
        {
         "name": "Gender_Female",
         "rawType": "float64",
         "type": "float"
        },
        {
         "name": "Gender_Male",
         "rawType": "float64",
         "type": "float"
        },
        {
         "name": "History_No",
         "rawType": "float64",
         "type": "float"
        },
        {
         "name": "History_Yes",
         "rawType": "float64",
         "type": "float"
        },
        {
         "name": "Patient_No",
         "rawType": "float64",
         "type": "float"
        },
        {
         "name": "Patient_Yes",
         "rawType": "float64",
         "type": "float"
        },
        {
         "name": "TakeMedication_No",
         "rawType": "float64",
         "type": "float"
        },
        {
         "name": "TakeMedication_Yes",
         "rawType": "float64",
         "type": "float"
        },
        {
         "name": "BreathShortness_No",
         "rawType": "float64",
         "type": "float"
        },
        {
         "name": "BreathShortness_Yes",
         "rawType": "float64",
         "type": "float"
        },
        {
         "name": "VisualChanges_No",
         "rawType": "float64",
         "type": "float"
        },
        {
         "name": "VisualChanges_Yes",
         "rawType": "float64",
         "type": "float"
        },
        {
         "name": "NoseBleeding_No",
         "rawType": "float64",
         "type": "float"
        },
        {
         "name": "NoseBleeding_Yes",
         "rawType": "float64",
         "type": "float"
        },
        {
         "name": "ControlledDiet_No",
         "rawType": "float64",
         "type": "float"
        },
        {
         "name": "ControlledDiet_Yes",
         "rawType": "float64",
         "type": "float"
        }
       ],
       "ref": "1c7bb597-794a-472d-a39b-23708bfffe97",
       "rows": [
        [
         "0",
         "0.0",
         "0.0",
         "0.0",
         "1.0",
         "1.0",
         "1.0",
         "0.0",
         "1.0",
         "0.0",
         "1.0",
         "1.0",
         "0.0",
         "1.0",
         "0.0",
         "1.0",
         "0.0",
         "1.0",
         "0.0",
         "1.0",
         "0.0",
         "1.0",
         "0.0"
        ],
        [
         "1",
         "0.0",
         "0.0",
         "0.0",
         "1.0",
         "1.0",
         "1.0",
         "1.0",
         "0.0",
         "0.0",
         "1.0",
         "1.0",
         "0.0",
         "1.0",
         "0.0",
         "1.0",
         "0.0",
         "1.0",
         "0.0",
         "1.0",
         "0.0",
         "1.0",
         "0.0"
        ],
        [
         "2",
         "1.0",
         "0.0",
         "0.0",
         "1.0",
         "1.0",
         "1.0",
         "0.0",
         "1.0",
         "0.0",
         "1.0",
         "1.0",
         "0.0",
         "1.0",
         "0.0",
         "1.0",
         "0.0",
         "1.0",
         "0.0",
         "1.0",
         "0.0",
         "1.0",
         "0.0"
        ],
        [
         "3",
         "1.0",
         "0.0",
         "0.0",
         "1.0",
         "1.0",
         "1.0",
         "1.0",
         "0.0",
         "0.0",
         "1.0",
         "1.0",
         "0.0",
         "1.0",
         "0.0",
         "1.0",
         "0.0",
         "1.0",
         "0.0",
         "1.0",
         "0.0",
         "1.0",
         "0.0"
        ],
        [
         "4",
         "2.0",
         "0.0",
         "0.0",
         "1.0",
         "1.0",
         "1.0",
         "0.0",
         "1.0",
         "0.0",
         "1.0",
         "1.0",
         "0.0",
         "1.0",
         "0.0",
         "1.0",
         "0.0",
         "1.0",
         "0.0",
         "1.0",
         "0.0",
         "1.0",
         "0.0"
        ]
       ],
       "shape": {
        "columns": 22,
        "rows": 5
       }
      },
      "text/html": [
       "<div>\n",
       "<style scoped>\n",
       "    .dataframe tbody tr th:only-of-type {\n",
       "        vertical-align: middle;\n",
       "    }\n",
       "\n",
       "    .dataframe tbody tr th {\n",
       "        vertical-align: top;\n",
       "    }\n",
       "\n",
       "    .dataframe thead th {\n",
       "        text-align: right;\n",
       "    }\n",
       "</style>\n",
       "<table border=\"1\" class=\"dataframe\">\n",
       "  <thead>\n",
       "    <tr style=\"text-align: right;\">\n",
       "      <th></th>\n",
       "      <th>Age</th>\n",
       "      <th>Severity</th>\n",
       "      <th>Whendiagnoused</th>\n",
       "      <th>Systolic</th>\n",
       "      <th>Diastolic</th>\n",
       "      <th>Stages</th>\n",
       "      <th>Gender_Female</th>\n",
       "      <th>Gender_Male</th>\n",
       "      <th>History_No</th>\n",
       "      <th>History_Yes</th>\n",
       "      <th>...</th>\n",
       "      <th>TakeMedication_No</th>\n",
       "      <th>TakeMedication_Yes</th>\n",
       "      <th>BreathShortness_No</th>\n",
       "      <th>BreathShortness_Yes</th>\n",
       "      <th>VisualChanges_No</th>\n",
       "      <th>VisualChanges_Yes</th>\n",
       "      <th>NoseBleeding_No</th>\n",
       "      <th>NoseBleeding_Yes</th>\n",
       "      <th>ControlledDiet_No</th>\n",
       "      <th>ControlledDiet_Yes</th>\n",
       "    </tr>\n",
       "  </thead>\n",
       "  <tbody>\n",
       "    <tr>\n",
       "      <th>0</th>\n",
       "      <td>0.0</td>\n",
       "      <td>0.0</td>\n",
       "      <td>0.0</td>\n",
       "      <td>1.0</td>\n",
       "      <td>1.0</td>\n",
       "      <td>1.0</td>\n",
       "      <td>0.0</td>\n",
       "      <td>1.0</td>\n",
       "      <td>0.0</td>\n",
       "      <td>1.0</td>\n",
       "      <td>...</td>\n",
       "      <td>1.0</td>\n",
       "      <td>0.0</td>\n",
       "      <td>1.0</td>\n",
       "      <td>0.0</td>\n",
       "      <td>1.0</td>\n",
       "      <td>0.0</td>\n",
       "      <td>1.0</td>\n",
       "      <td>0.0</td>\n",
       "      <td>1.0</td>\n",
       "      <td>0.0</td>\n",
       "    </tr>\n",
       "    <tr>\n",
       "      <th>1</th>\n",
       "      <td>0.0</td>\n",
       "      <td>0.0</td>\n",
       "      <td>0.0</td>\n",
       "      <td>1.0</td>\n",
       "      <td>1.0</td>\n",
       "      <td>1.0</td>\n",
       "      <td>1.0</td>\n",
       "      <td>0.0</td>\n",
       "      <td>0.0</td>\n",
       "      <td>1.0</td>\n",
       "      <td>...</td>\n",
       "      <td>1.0</td>\n",
       "      <td>0.0</td>\n",
       "      <td>1.0</td>\n",
       "      <td>0.0</td>\n",
       "      <td>1.0</td>\n",
       "      <td>0.0</td>\n",
       "      <td>1.0</td>\n",
       "      <td>0.0</td>\n",
       "      <td>1.0</td>\n",
       "      <td>0.0</td>\n",
       "    </tr>\n",
       "    <tr>\n",
       "      <th>2</th>\n",
       "      <td>1.0</td>\n",
       "      <td>0.0</td>\n",
       "      <td>0.0</td>\n",
       "      <td>1.0</td>\n",
       "      <td>1.0</td>\n",
       "      <td>1.0</td>\n",
       "      <td>0.0</td>\n",
       "      <td>1.0</td>\n",
       "      <td>0.0</td>\n",
       "      <td>1.0</td>\n",
       "      <td>...</td>\n",
       "      <td>1.0</td>\n",
       "      <td>0.0</td>\n",
       "      <td>1.0</td>\n",
       "      <td>0.0</td>\n",
       "      <td>1.0</td>\n",
       "      <td>0.0</td>\n",
       "      <td>1.0</td>\n",
       "      <td>0.0</td>\n",
       "      <td>1.0</td>\n",
       "      <td>0.0</td>\n",
       "    </tr>\n",
       "    <tr>\n",
       "      <th>3</th>\n",
       "      <td>1.0</td>\n",
       "      <td>0.0</td>\n",
       "      <td>0.0</td>\n",
       "      <td>1.0</td>\n",
       "      <td>1.0</td>\n",
       "      <td>1.0</td>\n",
       "      <td>1.0</td>\n",
       "      <td>0.0</td>\n",
       "      <td>0.0</td>\n",
       "      <td>1.0</td>\n",
       "      <td>...</td>\n",
       "      <td>1.0</td>\n",
       "      <td>0.0</td>\n",
       "      <td>1.0</td>\n",
       "      <td>0.0</td>\n",
       "      <td>1.0</td>\n",
       "      <td>0.0</td>\n",
       "      <td>1.0</td>\n",
       "      <td>0.0</td>\n",
       "      <td>1.0</td>\n",
       "      <td>0.0</td>\n",
       "    </tr>\n",
       "    <tr>\n",
       "      <th>4</th>\n",
       "      <td>2.0</td>\n",
       "      <td>0.0</td>\n",
       "      <td>0.0</td>\n",
       "      <td>1.0</td>\n",
       "      <td>1.0</td>\n",
       "      <td>1.0</td>\n",
       "      <td>0.0</td>\n",
       "      <td>1.0</td>\n",
       "      <td>0.0</td>\n",
       "      <td>1.0</td>\n",
       "      <td>...</td>\n",
       "      <td>1.0</td>\n",
       "      <td>0.0</td>\n",
       "      <td>1.0</td>\n",
       "      <td>0.0</td>\n",
       "      <td>1.0</td>\n",
       "      <td>0.0</td>\n",
       "      <td>1.0</td>\n",
       "      <td>0.0</td>\n",
       "      <td>1.0</td>\n",
       "      <td>0.0</td>\n",
       "    </tr>\n",
       "  </tbody>\n",
       "</table>\n",
       "<p>5 rows × 22 columns</p>\n",
       "</div>"
      ],
      "text/plain": [
       "   Age  Severity  Whendiagnoused  Systolic  Diastolic  Stages  Gender_Female  \\\n",
       "0  0.0       0.0             0.0       1.0        1.0     1.0            0.0   \n",
       "1  0.0       0.0             0.0       1.0        1.0     1.0            1.0   \n",
       "2  1.0       0.0             0.0       1.0        1.0     1.0            0.0   \n",
       "3  1.0       0.0             0.0       1.0        1.0     1.0            1.0   \n",
       "4  2.0       0.0             0.0       1.0        1.0     1.0            0.0   \n",
       "\n",
       "   Gender_Male  History_No  History_Yes  ...  TakeMedication_No  \\\n",
       "0          1.0         0.0          1.0  ...                1.0   \n",
       "1          0.0         0.0          1.0  ...                1.0   \n",
       "2          1.0         0.0          1.0  ...                1.0   \n",
       "3          0.0         0.0          1.0  ...                1.0   \n",
       "4          1.0         0.0          1.0  ...                1.0   \n",
       "\n",
       "   TakeMedication_Yes  BreathShortness_No  BreathShortness_Yes  \\\n",
       "0                 0.0                 1.0                  0.0   \n",
       "1                 0.0                 1.0                  0.0   \n",
       "2                 0.0                 1.0                  0.0   \n",
       "3                 0.0                 1.0                  0.0   \n",
       "4                 0.0                 1.0                  0.0   \n",
       "\n",
       "   VisualChanges_No  VisualChanges_Yes  NoseBleeding_No  NoseBleeding_Yes  \\\n",
       "0               1.0                0.0              1.0               0.0   \n",
       "1               1.0                0.0              1.0               0.0   \n",
       "2               1.0                0.0              1.0               0.0   \n",
       "3               1.0                0.0              1.0               0.0   \n",
       "4               1.0                0.0              1.0               0.0   \n",
       "\n",
       "   ControlledDiet_No  ControlledDiet_Yes  \n",
       "0                1.0                 0.0  \n",
       "1                1.0                 0.0  \n",
       "2                1.0                 0.0  \n",
       "3                1.0                 0.0  \n",
       "4                1.0                 0.0  \n",
       "\n",
       "[5 rows x 22 columns]"
      ]
     },
     "execution_count": 14,
     "metadata": {},
     "output_type": "execute_result"
    }
   ],
   "source": [
    "df_processed.head()"
   ]
  },
  {
   "cell_type": "code",
   "execution_count": 15,
   "id": "a4b79d3f",
   "metadata": {},
   "outputs": [
    {
     "name": "stdout",
     "output_type": "stream",
     "text": [
      "\n",
      "Unique values of a few processed ordinal columns (should now be numerical):\n",
      "Age unique values: [0. 1. 2. 3.]\n",
      "Severity unique values: [0. 2. 1.]\n",
      "Stages unique values: [1. 2. 3. 0.]\n",
      "\n",
      "Unique values of a few processed nominal (one-hot encoded) columns (should be 0 or 1):\n",
      "Gender_Male unique values: [1. 0.]\n",
      "History_Yes unique values: [1. 0.]\n"
     ]
    }
   ],
   "source": [
    "print(\"\\nUnique values of a few processed ordinal columns (should now be numerical):\")\n",
    "print(f\"Age unique values: {df_processed['Age'].unique()}\")\n",
    "print(f\"Severity unique values: {df_processed['Severity'].unique()}\")\n",
    "print(f\"Stages unique values: {df_processed['Stages'].unique()}\")\n",
    "\n",
    "print(\"\\nUnique values of a few processed nominal (one-hot encoded) columns (should be 0 or 1):\")\n",
    "print(f\"Gender_Male unique values: {df_processed['Gender_Male'].unique()}\")\n",
    "print(f\"History_Yes unique values: {df_processed['History_Yes'].unique()}\")"
   ]
  },
  {
   "cell_type": "markdown",
   "id": "c5647856",
   "metadata": {},
   "source": [
    "### Step 8: Saving the transformed and cleaned dataset"
   ]
  },
  {
   "cell_type": "code",
   "execution_count": null,
   "id": "4bd6f717",
   "metadata": {},
   "outputs": [
    {
     "name": "stdout",
     "output_type": "stream",
     "text": [
      "Processed DataFrame saved to: ../dataset/processed_patient_data.csv\n",
      "Fitted preprocessor saved to: ../models/fitted_preprocessor.pkl\n"
     ]
    }
   ],
   "source": [
    "os.makedirs('../dataset', exist_ok=True)\n",
    "os.makedirs('../models', exist_ok=True)\n",
    "\n",
    "# 1. Save the processed DataFrame to CSV\n",
    "output_csv_path = '../dataset/numerical_processed_patient_data.csv'\n",
    "df_processed.to_csv(output_csv_path, index=False)\n",
    "print(f\"Processed DataFrame saved to: {output_csv_path}\")\n",
    "\n",
    "# 2. Save the fitted preprocessor object using pickle\n",
    "preprocessor_path = '../models/fitted_preprocessor.pkl'\n",
    "with open(preprocessor_path, 'wb') as f:\n",
    "    pickle.dump(preprocessor, f)\n",
    "print(f\"Fitted preprocessor saved to: {preprocessor_path}\")\n"
   ]
  }
 ],
 "metadata": {
  "kernelspec": {
   "display_name": ".venv",
   "language": "python",
   "name": "python3"
  },
  "language_info": {
   "codemirror_mode": {
    "name": "ipython",
    "version": 3
   },
   "file_extension": ".py",
   "mimetype": "text/x-python",
   "name": "python",
   "nbconvert_exporter": "python",
   "pygments_lexer": "ipython3",
   "version": "3.12.4"
  }
 },
 "nbformat": 4,
 "nbformat_minor": 5
}
